{
 "cells": [
  {
   "cell_type": "markdown",
   "metadata": {},
   "source": [
    "## 1. Libraries"
   ]
  },
  {
   "cell_type": "code",
   "execution_count": null,
   "metadata": {},
   "outputs": [],
   "source": [
    "from google.colab import drive\n",
    "import os\n",
    "import numpy as np\n",
    "import tensorflow as tf\n",
    "from tensorflow.keras.preprocessing.image import load_img, img_to_array\n",
    "from tensorflow.keras.utils import to_categorical\n",
    "from sklearn.model_selection import KFold\n",
    "from sklearn.preprocessing import LabelEncoder\n",
    "from tensorflow.keras.callbacks import ModelCheckpoin"
   ]
  },
  {
   "cell_type": "markdown",
   "metadata": {},
   "source": [
    "## 2. Mount Google Drive "
   ]
  },
  {
   "cell_type": "code",
   "execution_count": null,
   "metadata": {},
   "outputs": [],
   "source": [
    "drive.mount('/content/drive')\n",
    "\n",
    "OUTPUT_DIR = '/content/drive/MyDrive/trained_models_000'\n",
    "if not os.path.exists(OUTPUT_DIR):\n",
    "    os.makedirs(OUTPUT_DIR)"
   ]
  },
  {
   "cell_type": "markdown",
   "metadata": {},
   "source": [
    "## 3. Unzip resized_dataset"
   ]
  },
  {
   "cell_type": "code",
   "execution_count": null,
   "metadata": {},
   "outputs": [],
   "source": [
    "!unzip \"/content/drive/MyDrive/main/resized_dataset.zip\" -d \"/content/resized_dataset\""
   ]
  },
  {
   "cell_type": "markdown",
   "metadata": {},
   "source": [
    "## 4. Configuration"
   ]
  },
  {
   "cell_type": "code",
   "execution_count": null,
   "metadata": {},
   "outputs": [],
   "source": [
    "IMG_HEIGHT, IMG_WIDTH = 384, 512\n",
    "BATCH_SIZE = 32\n",
    "NUM_FOLDS = 10\n",
    "EPOCHS = 30\n",
    "DATASET_DIR = '/content/resized_dataset/resized_dataset'\n",
    "RANDOM_STATE = 42"
   ]
  },
  {
   "cell_type": "markdown",
   "metadata": {},
   "source": [
    "## 5. Choose the starting model"
   ]
  },
  {
   "cell_type": "code",
   "execution_count": null,
   "metadata": {},
   "outputs": [],
   "source": [
    "# 1 = MobileNetV2, 2 = ResNet50, 3 = Xception\n",
    "start_model =1"
   ]
  },
  {
   "cell_type": "markdown",
   "metadata": {},
   "source": [
    "## 6. Load Data"
   ]
  },
  {
   "cell_type": "code",
   "execution_count": null,
   "metadata": {},
   "outputs": [],
   "source": [
    "def load_data(dataset_dir, img_height, img_width):\n",
    "    X, y = [], []\n",
    "    for label in os.listdir(dataset_dir):\n",
    "        label_path = os.path.join(dataset_dir, label)\n",
    "        if not os.path.isdir(label_path):\n",
    "            continue\n",
    "        for file in os.listdir(label_path):\n",
    "            file_path = os.path.join(label_path, file)\n",
    "            try:\n",
    "                img = load_img(file_path, target_size=(img_height, img_width))\n",
    "                img = img_to_array(img) / 255.0\n",
    "                X.append(img)\n",
    "                y.append(label)\n",
    "            except Exception as e:\n",
    "                print(f\"Error loading {file_path}: {e}\")\n",
    "    return np.array(X), np.array(y)\n",
    "\n",
    "X, y = load_data(DATASET_DIR, IMG_HEIGHT, IMG_WIDTH)\n",
    "\n",
    "# Encode labels\n",
    "encoder = LabelEncoder()\n",
    "y_encoded = encoder.fit_transform(y)\n",
    "num_classes = len(np.unique(y_encoded))\n",
    "y_categorical = to_categorical(y_encoded, num_classes=num_classes)"
   ]
  },
  {
   "cell_type": "markdown",
   "metadata": {},
   "source": [
    "## 7. Define Models"
   ]
  },
  {
   "cell_type": "code",
   "execution_count": null,
   "metadata": {},
   "outputs": [],
   "source": [
    "def create_mobilenet(img_height, img_width, num_classes):\n",
    "    base_model = tf.keras.applications.MobileNetV2(weights='imagenet', include_top=False,\n",
    "                                                   input_shape=(img_height, img_width, 3))\n",
    "    base_model.trainable = False\n",
    "    model = tf.keras.Sequential([\n",
    "        base_model,\n",
    "        tf.keras.layers.GlobalAveragePooling2D(),\n",
    "        tf.keras.layers.Dense(128, activation='relu'),\n",
    "        tf.keras.layers.Dense(num_classes, activation='softmax')\n",
    "    ])\n",
    "    model.compile(optimizer='adam', loss='categorical_crossentropy', metrics=['accuracy'])\n",
    "    return model\n",
    "\n",
    "def create_resnet50(img_height, img_width, num_classes):\n",
    "    base_model = tf.keras.applications.ResNet50(weights='imagenet', include_top=False,\n",
    "                                                input_shape=(img_height, img_width, 3))\n",
    "    base_model.trainable = False\n",
    "    model = tf.keras.Sequential([\n",
    "        base_model,\n",
    "        tf.keras.layers.GlobalAveragePooling2D(),\n",
    "        tf.keras.layers.Dense(128, activation='relu'),\n",
    "        tf.keras.layers.Dense(num_classes, activation='softmax')\n",
    "    ])\n",
    "    model.compile(optimizer='adam', loss='categorical_crossentropy', metrics=['accuracy'])\n",
    "    return model\n",
    "\n",
    "def create_xception(img_height, img_width, num_classes):\n",
    "    base_model = tf.keras.applications.Xception(weights='imagenet', include_top=False,\n",
    "                                                input_shape=(img_height, img_width, 3))\n",
    "    base_model.trainable = False\n",
    "    model = tf.keras.Sequential([\n",
    "        base_model,\n",
    "        tf.keras.layers.GlobalAveragePooling2D(),\n",
    "        tf.keras.layers.Dropout(0.5),\n",
    "        tf.keras.layers.Dense(1024, activation='relu'),\n",
    "        tf.keras.layers.Dropout(0.5),\n",
    "        tf.keras.layers.Dense(num_classes, activation='softmax')\n",
    "    ])\n",
    "    model.compile(optimizer=tf.keras.optimizers.Adam(learning_rate=1e-4),\n",
    "                  loss='categorical_crossentropy',\n",
    "                  metrics=['accuracy'])\n",
    "    return model\n",
    "\n",
    "models_info = {\n",
    "    1: ('MobileNetV2', create_mobilenet),\n",
    "    2: ('ResNet50', create_resnet50),\n",
    "    3: ('Xception', create_xception)\n",
    "}\n",
    "\n",
    "# Determine which models to train based on start_model\n",
    "# If start_model = 1, train all three. If 2, skip MobileNet. If 3, skip MobileNet & ResNet.\n",
    "train_models = [m for m in models_info.keys() if m >= start_model]"
   ]
  },
  {
   "cell_type": "markdown",
   "metadata": {},
   "source": [
    "## 8. K-Fold setup"
   ]
  },
  {
   "cell_type": "code",
   "execution_count": null,
   "metadata": {},
   "outputs": [],
   "source": [
    "kf = KFold(n_splits=NUM_FOLDS, shuffle=True, random_state=RANDOM_STATE)\n",
    "\n",
    "# Data generators\n",
    "train_datagen = tf.keras.preprocessing.image.ImageDataGenerator(\n",
    "    rotation_range=20,\n",
    "    width_shift_range=0.2,\n",
    "    height_shift_range=0.2,\n",
    "    horizontal_flip=True\n",
    ")\n",
    "val_datagen = tf.keras.preprocessing.image.ImageDataGenerator()"
   ]
  },
  {
   "cell_type": "markdown",
   "metadata": {},
   "source": [
    "## 9. Training with Cross-Validation "
   ]
  },
  {
   "cell_type": "code",
   "execution_count": null,
   "metadata": {},
   "outputs": [],
   "source": [
    "for key in train_models:\n",
    "    model_name, model_func = models_info[key]\n",
    "    fold_no = 1\n",
    "\n",
    "    # Create an empty DataFrame to store the metrics\n",
    "    metrics_df = pd.DataFrame(columns=['fold_no', 'epoch', 'accuracy', 'loss', 'val_accuracy', 'val_loss'])\n",
    "\n",
    "    for train_idx, val_idx in kf.split(X):\n",
    "        X_train, X_val = X[train_idx], X[val_idx]\n",
    "        y_train, y_val = y_categorical[train_idx], y_categorical[val_idx]\n",
    "\n",
    "        train_generator = train_datagen.flow(X_train, y_train, batch_size=BATCH_SIZE, shuffle=True)\n",
    "        val_generator = val_datagen.flow(X_val, y_val, batch_size=BATCH_SIZE, shuffle=False)\n",
    "\n",
    "        model = model_func(IMG_HEIGHT, IMG_WIDTH, num_classes)\n",
    "\n",
    "        checkpoint_path = os.path.join(OUTPUT_DIR, f'{model_name}_fold_{fold_no}.keras')\n",
    "        # Save the best model for this fold\n",
    "        checkpoint = ModelCheckpoint(checkpoint_path, save_best_only=True,\n",
    "                                     monitor='val_accuracy', mode='max')\n",
    "\n",
    "        # Train the model\n",
    "        history = model.fit(\n",
    "            train_generator,\n",
    "            epochs=EPOCHS,\n",
    "            validation_data=val_generator,\n",
    "            callbacks=[checkpoint],\n",
    "            verbose=1\n",
    "        )\n",
    "\n",
    "        # Extract the metrics and add them to the DataFrame\n",
    "        history_df = pd.DataFrame(history.history)\n",
    "        history_df['fold_no'] = fold_no\n",
    "        history_df['epoch'] = history_df.index + 1  # Add epoch number\n",
    "\n",
    "        # Reorder the columns\n",
    "        history_df = history_df[['fold_no', 'epoch', 'accuracy', 'loss', 'val_accuracy', 'val_loss']]\n",
    "\n",
    "        # Concatenate with the main DataFrame\n",
    "        metrics_df = pd.concat([metrics_df, history_df], ignore_index=True)\n",
    "\n",
    "        fold_no += 1\n",
    "\n",
    "    # Save metrics to a CSV file per model\n",
    "    csv_path = os.path.join(OUTPUT_DIR, f'{model_name}_metrics.csv')\n",
    "    metrics_df.to_csv(csv_path, index=False)\n",
    "    print(f'Métricas guardadas en {csv_path}')"
   ]
  }
 ],
 "metadata": {
  "kernelspec": {
   "display_name": "fourier",
   "language": "python",
   "name": "python3"
  },
  "language_info": {
   "codemirror_mode": {
    "name": "ipython",
    "version": 3
   },
   "file_extension": ".py",
   "mimetype": "text/x-python",
   "name": "python",
   "nbconvert_exporter": "python",
   "pygments_lexer": "ipython3",
   "version": "3.9.20"
  }
 },
 "nbformat": 4,
 "nbformat_minor": 2
}
